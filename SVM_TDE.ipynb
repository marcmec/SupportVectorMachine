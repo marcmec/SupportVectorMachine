{
  "nbformat": 4,
  "nbformat_minor": 0,
  "metadata": {
    "colab": {
      "name": "SVM - TDE",
      "provenance": [],
      "collapsed_sections": [],
      "mount_file_id": "1cnX558Zd7VH6rDWiZ_LFCMRe02-5ynGD",
      "authorship_tag": "ABX9TyMxJXig/9ykyaDpSAYJggxh",
      "include_colab_link": true
    },
    "kernelspec": {
      "name": "python3",
      "display_name": "Python 3"
    }
  },
  "cells": [
    {
      "cell_type": "markdown",
      "metadata": {
        "id": "view-in-github",
        "colab_type": "text"
      },
      "source": [
        "<a href=\"https://colab.research.google.com/github/marcmec/SupportVectorMachine/blob/master/SVM_TDE.ipynb\" target=\"_parent\"><img src=\"https://colab.research.google.com/assets/colab-badge.svg\" alt=\"Open In Colab\"/></a>"
      ]
    },
    {
      "cell_type": "code",
      "metadata": {
        "id": "Q8KrsKhKsHY3",
        "colab_type": "code",
        "colab": {}
      },
      "source": [
        "import numpy as np\n",
        "import pandas as pd\n",
        "import matplotlib.pyplot as plt\n",
        "import seaborn as sns\n",
        "from google.colab import files\n",
        "from sklearn.svm import SVC\n",
        "from sklearn.metrics import classification_report, confusion_matrix\n",
        "from sklearn.model_selection import train_test_split\n",
        "from sklearn import preprocessing\n",
        "from sklearn.datasets import make_blobs\n",
        "%matplotlib inline\n",
        "le = preprocessing.LabelEncoder();\n",
        "db= pd.read_csv('/Tcaixas.csv', sep= ';')"
      ],
      "execution_count": 45,
      "outputs": []
    },
    {
      "cell_type": "code",
      "metadata": {
        "id": "GsASfB7YfcJM",
        "colab_type": "code",
        "colab": {}
      },
      "source": [
        "model = SVC( kernel= 'linear', coef0=0.2)"
      ],
      "execution_count": 51,
      "outputs": []
    },
    {
      "cell_type": "code",
      "metadata": {
        "id": "JTkukjfJCwiC",
        "colab_type": "code",
        "colab": {}
      },
      "source": [
        "df_saida = pd.DataFrame(db['Saida'])"
      ],
      "execution_count": 10,
      "outputs": []
    },
    {
      "cell_type": "code",
      "metadata": {
        "id": "Zj3tDbNNKGkH",
        "colab_type": "code",
        "colab": {}
      },
      "source": [
        "df_saida"
      ],
      "execution_count": null,
      "outputs": []
    },
    {
      "cell_type": "code",
      "metadata": {
        "id": "j04-bCLC9NoG",
        "colab_type": "code",
        "colab": {}
      },
      "source": [
        "trans_saida =le.fit_transform(df_saida)"
      ],
      "execution_count": null,
      "outputs": []
    },
    {
      "cell_type": "code",
      "metadata": {
        "id": "hGq0t8AlKWpX",
        "colab_type": "code",
        "colab": {}
      },
      "source": [
        "trans_saida"
      ],
      "execution_count": null,
      "outputs": []
    },
    {
      "cell_type": "code",
      "metadata": {
        "id": "zpmPvMTqDt-U",
        "colab_type": "code",
        "colab": {}
      },
      "source": [
        "trans_saida= trans_saida.reshape(-1,1)"
      ],
      "execution_count": 12,
      "outputs": []
    },
    {
      "cell_type": "code",
      "metadata": {
        "id": "AuxEXLUIE3Z5",
        "colab_type": "code",
        "colab": {}
      },
      "source": [
        "df_altura = pd.DataFrame(db['Altura'])"
      ],
      "execution_count": 13,
      "outputs": []
    },
    {
      "cell_type": "code",
      "metadata": {
        "id": "llp4k71pE5fr",
        "colab_type": "code",
        "colab": {}
      },
      "source": [
        "df_largura = pd.DataFrame(db['Largura '])"
      ],
      "execution_count": 14,
      "outputs": []
    },
    {
      "cell_type": "code",
      "metadata": {
        "id": "KplpXJvXE6U4",
        "colab_type": "code",
        "colab": {}
      },
      "source": [
        "df_profundidade = pd.DataFrame(db['Profundidade'])"
      ],
      "execution_count": 15,
      "outputs": []
    },
    {
      "cell_type": "code",
      "metadata": {
        "id": "RCSRKCsNH1Lz",
        "colab_type": "code",
        "colab": {}
      },
      "source": [
        "value_altura = df_altura.iloc[0:,:1].values\n",
        "value_largura = df_largura.iloc[0:,:1].values\n",
        "value_profundidade = df_profundidade.iloc[0:,:1].values"
      ],
      "execution_count": 16,
      "outputs": []
    },
    {
      "cell_type": "code",
      "metadata": {
        "id": "F6NG1S-JJBoq",
        "colab_type": "code",
        "colab": {}
      },
      "source": [
        "volume = value_altura*value_largura*value_profundidade\n"
      ],
      "execution_count": 20,
      "outputs": []
    },
    {
      "cell_type": "code",
      "metadata": {
        "id": "iiw6_grYG4ky",
        "colab_type": "code",
        "colab": {}
      },
      "source": [
        "x_train, x_teste, y_train, y_teste = train_test_split(volume, trans_saida, test_size = 0.30)"
      ],
      "execution_count": 53,
      "outputs": []
    },
    {
      "cell_type": "code",
      "metadata": {
        "id": "FeyDDk3H8y5B",
        "colab_type": "code",
        "colab": {}
      },
      "source": [
        "model.fit(x_train,y_train)"
      ],
      "execution_count": null,
      "outputs": []
    },
    {
      "cell_type": "code",
      "metadata": {
        "id": "6Uw2OMQxEGJu",
        "colab_type": "code",
        "colab": {}
      },
      "source": [
        "y_pred = model.predict(x_train)"
      ],
      "execution_count": 55,
      "outputs": []
    },
    {
      "cell_type": "code",
      "metadata": {
        "id": "yeBR3WjQER93",
        "colab_type": "code",
        "colab": {}
      },
      "source": [
        "print(confusion_matrix(y_train,y_pred))\n",
        "print(classification_report(y_train,y_pred))"
      ],
      "execution_count": null,
      "outputs": []
    },
    {
      "cell_type": "code",
      "metadata": {
        "id": "-5VbdPO4xT2d",
        "colab_type": "code",
        "colab": {}
      },
      "source": [
        "model.support_vectors_"
      ],
      "execution_count": null,
      "outputs": []
    },
    {
      "cell_type": "code",
      "metadata": {
        "id": "gS51yihilQ-H",
        "colab_type": "code",
        "colab": {
          "base_uri": "https://localhost:8080/",
          "height": 281
        },
        "outputId": "c9835a90-5e76-40e2-97aa-15ded8629970"
      },
      "source": [
        "\n",
        "x_train, y_train = make_blobs(n_samples=70, random_state=0,cluster_std=0.60)\n",
        "for i in range(0, x_train.shape[0]):\n",
        "  if y_train[i] == 0:\n",
        "    p = plt.scatter(x_train[i,0],x_train[i,1],c='r',    s=20,marker='+')\n",
        "  elif y_train[i] == 1:\n",
        "    m = plt.scatter(x_train[i,0],x_train[i,1],c='g',    s=20,marker='o')\n",
        "  elif y_train[i] == 2:\n",
        "    g = plt.scatter(x_train[i,0],x_train[i,1],c='b',    s=20,marker='*')\n",
        "plt.scatter(model.support_vectors_[:,], model.support_vectors_[:,], s=80,linewidth=1, facecolors='none', edgecolors='k')\n",
        "# get the separating hyperplane\n",
        "\n",
        "plt.legend([p, m, g], ['pequena', 'media',   'grande'])\n",
        "plt.title('Support Vector Machine - Tamanho de Caixas')\n",
        "plt.show()"
      ],
      "execution_count": 60,
      "outputs": [
        {
          "output_type": "display_data",
          "data": {
            "image/png": "[encoded data removed]",
            "text/plain": [
              "<Figure size 432x288 with 1 Axes>"
            ]
          },
          "metadata": {
            "tags": [],
            "needs_background": "light"
          }
        }
      ]
    },
    {
      "cell_type": "code",
      "metadata": {
        "id": "yFVji0YJmvVz",
        "colab_type": "code",
        "colab": {}
      },
      "source": [
        ""
      ],
      "execution_count": null,
      "outputs": []
    }
  ]
}